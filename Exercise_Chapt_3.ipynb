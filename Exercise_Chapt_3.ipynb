{
  "nbformat": 4,
  "nbformat_minor": 0,
  "metadata": {
    "colab": {
      "provenance": []
    },
    "kernelspec": {
      "name": "python3",
      "display_name": "Python 3"
    },
    "language_info": {
      "name": "python"
    }
  },
  "cells": [
    {
      "cell_type": "code",
      "source": [
        "#Number 1.1\n",
        "import math\n",
        "# data list: x,y \n",
        "X1 = (13, 19)\n",
        "C = (10, 15)\n",
        "\n",
        "#distance of X1 and C named by d\n",
        "d = math.sqrt((X1[0]-C[0])**2+(X1[1]-C[1])**2)\n",
        "\n",
        "print( \"d =\",d)\n"
      ],
      "metadata": {
        "colab": {
          "base_uri": "https://localhost:8080/"
        },
        "id": "XiFHi3kfg9U8",
        "outputId": "ff18c59a-c304-4b60-cc29-39d296abd820"
      },
      "execution_count": 8,
      "outputs": [
        {
          "output_type": "stream",
          "name": "stdout",
          "text": [
            "d = 5.0\n"
          ]
        }
      ]
    },
    {
      "cell_type": "code",
      "source": [
        "#Number 1.2\n",
        "#Find the WSS for each cluster, and find the TWSS\n",
        "#d is distance from C to X1 equal to 5, distance from X2 to C equal to 3 and take the distance from X3 to C approximated by 3\n",
        "dist_cluster1 = [5, 3, 3]\n",
        "dist_cluster2 = [4, 4]\n",
        "\n",
        "mean_cluster1 = sum(dist_cluster1) / len(dist_cluster1)\n",
        "mean_cluster2 = sum(dist_cluster2) / len(dist_cluster2)\n",
        "\n",
        "wss_cluster1 = sum((x - mean_cluster1)**2 for x in dist_cluster1)\n",
        "wss_cluster2 = sum((x - mean_cluster2)**2 for x in dist_cluster2)\n",
        "\n",
        "twss = wss_cluster1 + wss_cluster2\n",
        "\n",
        "print(\"WSS(dist_cluster1):\", wss_cluster1)\n",
        "print(\"WSS(dist_cluster2):\", wss_cluster2)\n",
        "print(\"TWSS:\", twss)\n"
      ],
      "metadata": {
        "colab": {
          "base_uri": "https://localhost:8080/"
        },
        "id": "jMMhaGkKiMAE",
        "outputId": "adb0ef93-1bed-408a-cc31-f9488e4566fb"
      },
      "execution_count": 12,
      "outputs": [
        {
          "output_type": "stream",
          "name": "stdout",
          "text": [
            "WSS(dist_cluster1): 2.6666666666666665\n",
            "WSS(dist_cluster2): 0.0\n",
            "TWSS: 2.6666666666666665\n"
          ]
        }
      ]
    },
    {
      "cell_type": "code",
      "source": [
        "#Number 1.3\n",
        "#Find optimum number of cluster according to the chart correlation between TWSS and K\n",
        "#By using Elbow Method, the optimum number of cluster is depicted by the 'broken' line on the chart at K=4\n",
        "print(\"Optimum Number of Cluster at K=4\")"
      ],
      "metadata": {
        "colab": {
          "base_uri": "https://localhost:8080/"
        },
        "id": "GcRp7Lw5reFp",
        "outputId": "23bc3b99-136a-4976-e1ec-645e901c9936"
      },
      "execution_count": 17,
      "outputs": [
        {
          "output_type": "stream",
          "name": "stdout",
          "text": [
            "Optimum Number of Cluster at K=4\n"
          ]
        }
      ]
    }
  ]
}