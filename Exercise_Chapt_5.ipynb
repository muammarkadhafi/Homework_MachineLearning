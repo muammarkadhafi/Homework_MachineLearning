{
  "nbformat": 4,
  "nbformat_minor": 0,
  "metadata": {
    "colab": {
      "provenance": [],
      "authorship_tag": "ABX9TyMTAibrsQg89GNaAx10emVR",
      "include_colab_link": true
    },
    "kernelspec": {
      "name": "python3",
      "display_name": "Python 3"
    },
    "language_info": {
      "name": "python"
    }
  },
  "cells": [
    {
      "cell_type": "markdown",
      "metadata": {
        "id": "view-in-github",
        "colab_type": "text"
      },
      "source": [
        "<a href=\"https://colab.research.google.com/github/muammarkadhafi/Homework_MachineLearning/blob/main/Exercise_Chapt_5.ipynb\" target=\"_parent\"><img src=\"https://colab.research.google.com/assets/colab-badge.svg\" alt=\"Open In Colab\"/></a>"
      ]
    },
    {
      "cell_type": "code",
      "execution_count": 14,
      "metadata": {
        "colab": {
          "base_uri": "https://localhost:8080/"
        },
        "id": "K4r4k6y4He3r",
        "outputId": "113c36b0-4c0d-46c3-d819-9860d64d8d72"
      },
      "outputs": [
        {
          "output_type": "stream",
          "name": "stdout",
          "text": [
            "Euclidean:  3.605551275463989\n"
          ]
        }
      ],
      "source": [
        "#Number 1\n",
        "#1.1 Find Euclidean distance\n",
        "import math\n",
        "import numpy as np\n",
        "\n",
        "# data list: x1,x2 \n",
        "A = (1, 4)\n",
        "B = (4, 2)\n",
        "\n",
        "euclidean_dist = math.sqrt((A[0]-B[0])**2+(A[1]-B[1])**2)\n",
        "\n",
        "print(f\"Euclidean: \", euclidean_dist)"
      ]
    },
    {
      "cell_type": "code",
      "source": [
        "#1.2 Find Manhattan distance\n",
        "\n",
        "manhattan_dist = abs(A[0] - B[0]) + abs(A[1] - B[1])\n",
        "\n",
        "print(f\"Manhattan: \", manhattan_dist)"
      ],
      "metadata": {
        "colab": {
          "base_uri": "https://localhost:8080/"
        },
        "id": "vzrLyp5jJ1mp",
        "outputId": "c03985e8-2262-409c-c613-b63d416c8adc"
      },
      "execution_count": 7,
      "outputs": [
        {
          "output_type": "stream",
          "name": "stdout",
          "text": [
            "Manhattan:  5\n"
          ]
        }
      ]
    },
    {
      "cell_type": "code",
      "source": [
        "#1.3 Minkowski vs Manhatan distance\n",
        "nB=1\n",
        "minkowski_dist_toManhatan = (abs(A[0] - B[0])**nB + abs(A[1] - B[1])**nB)**(1/nB)\n",
        "print(f\"Minkowski to Manhatan: \",minkowski_dist_toManhatan)"
      ],
      "metadata": {
        "colab": {
          "base_uri": "https://localhost:8080/"
        },
        "id": "AEIQ13cLNjE4",
        "outputId": "8e063eaa-b7c7-40ee-a3b3-0287d36327b4"
      },
      "execution_count": 16,
      "outputs": [
        {
          "output_type": "stream",
          "name": "stdout",
          "text": [
            "Minkowski to Manhatan:  5.0\n"
          ]
        }
      ]
    },
    {
      "cell_type": "code",
      "source": [
        "#1.4 Minkowski vs Euclidean distance \n",
        "nA=2\n",
        "minkowski_dist_toEuclidean = (abs(A[0] - B[0])**nA + abs(A[1] - B[1])**nA)**(1/nA)\n",
        "print(f\"Minkowski to Euclidean: \",minkowski_dist_toEuclidean)"
      ],
      "metadata": {
        "colab": {
          "base_uri": "https://localhost:8080/"
        },
        "id": "-RdmFpBzP7jw",
        "outputId": "f38af375-ba54-4fca-bd2e-a6b7248c0e45"
      },
      "execution_count": 17,
      "outputs": [
        {
          "output_type": "stream",
          "name": "stdout",
          "text": [
            "Minkowski to Euclidean:  3.605551275463989\n"
          ]
        }
      ]
    },
    {
      "cell_type": "code",
      "source": [
        "#1.5 Cosine similarity\n",
        "from sklearn.metrics.pairwise import cosine_similarity\n",
        "import numpy as np\n",
        "\n",
        "# Define two vectors\n",
        "A = np.array([1, 4])\n",
        "B = np.array([4, 2])\n",
        "\n",
        "# Calculate cosine similarity\n",
        "similarity = cosine_similarity([A, B])\n",
        "\n",
        "print(f\"Cosine similarity : \",similarity)\n"
      ],
      "metadata": {
        "colab": {
          "base_uri": "https://localhost:8080/"
        },
        "id": "x4Jbv65qTQdY",
        "outputId": "c83e5d66-61d9-4912-9a3c-07a819da610b"
      },
      "execution_count": 33,
      "outputs": [
        {
          "output_type": "stream",
          "name": "stdout",
          "text": [
            "Cosine similarity :  [[1.         0.65079137]\n",
            " [0.65079137 1.        ]]\n"
          ]
        }
      ]
    },
    {
      "cell_type": "code",
      "source": [
        "#Number 2\n",
        "#Find the Euclidean distance when input test data is (X.,X)=(30,6),the nearest neighbor to K=3. and use y for classification problems and y2 for regression analysis\n",
        "import numpy as np\n",
        "from sklearn.preprocessing import StandardScaler\n",
        "from sklearn.neighbors import KNeighborsClassifier\n",
        "from sklearn.neighbors import KNeighborsRegressor\n",
        "import matplotlib.pyplot as plt\n",
        "\n",
        "X = np.array([\n",
        "    [10, 8],\n",
        "    [20, 4],\n",
        "    [20, 6],\n",
        "    [40, 4],\n",
        "    [50, 8]])\n",
        "y  = [\"A\", \"A\", \"A\", \"B\", \"B\"]\n",
        "y2 = [100, 60, 50, 40, 100]\n",
        "\n",
        "test_data = np.array([30, 6]).reshape(1, -1)\n",
        "\n",
        "distances = np.sqrt((X[:,0]-test_data[0, 0])**2+(X[:,1]-test_data[0 ,1]))\n",
        "print(f\"Euclidean distance : \", distances)\n",
        "\n",
        "scaler = StandardScaler()\n",
        "X_scaled = scaler.fit_transform(X)\n",
        "test_data_scaled = scaler.transform(test_data)\n",
        "\n",
        "K = 3\n",
        "\n",
        "#y\n",
        "knn_c = KNeighborsClassifier(n_neighbors=K)\n",
        "knn_c.fit(X_scaled, y)\n",
        "y_pred = knn_c.predict(test_data_scaled)\n",
        "print(f\"\\n y : \", y_pred)\n",
        "\n",
        "# y2\n",
        "\n",
        "knn_r = KNeighborsRegressor(n_neighbors=K)\n",
        "knn_r.fit(X_scaled, y2)\n",
        "y2_pred = knn_r.predict(test_data_scaled)\n",
        "print(f\"\\n y2 : \", y2_pred)\n",
        "\n",
        "# Graph\n",
        "plt.scatter(X[:, 0], X[:, 1], c='blue', label='Data')\n",
        "plt.scatter(test_data[0, 0], test_data[0, 1], c='red', label='Input X')\n",
        "plt.xlabel('X.')\n",
        "plt.ylabel('X')\n",
        "plt.legend()\n",
        "plt.title('Graphic of Data and Input X')\n",
        "plt.show()\n"
      ],
      "metadata": {
        "colab": {
          "base_uri": "https://localhost:8080/",
          "height": 559
        },
        "id": "jPhjjmquUjsQ",
        "outputId": "e92bcdf6-b6cd-48db-b61f-3f2c2fc95cb3"
      },
      "execution_count": 35,
      "outputs": [
        {
          "output_type": "stream",
          "name": "stdout",
          "text": [
            "Euclidean distance :  [20.04993766  9.89949494 10.          9.89949494 20.04993766]\n",
            "\n",
            " y :  ['A']\n",
            "\n",
            " y2 :  [50.]\n"
          ]
        },
        {
          "output_type": "display_data",
          "data": {
            "text/plain": [
              "<Figure size 640x480 with 1 Axes>"
            ],
            "image/png": "[encoded data removed]"
          },
          "metadata": {}
        }
      ]
    }
  ]
}